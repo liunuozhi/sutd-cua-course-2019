{
 "cells": [
  {
   "cell_type": "code",
   "execution_count": 1,
   "metadata": {},
   "outputs": [],
   "source": [
    "import pandas as pd\n",
    "import spacy\n",
    "import seaborn as sns\n",
    "from ast import literal_eval\n",
    "import re\n",
    "import gensim\n",
    "from gensim.corpora import Dictionary\n",
    "from gensim.models import CoherenceModel, LdaModel, LsiModel, HdpModel\n",
    "from collections import defaultdict"
   ]
  },
  {
   "cell_type": "code",
   "execution_count": 2,
   "metadata": {},
   "outputs": [
    {
     "name": "stdout",
     "output_type": "stream",
     "text": [
      "Index(['lat', 'lon', 'pageid', 'title', 'text'], dtype='object')\n"
     ]
    },
    {
     "data": {
      "text/html": [
       "<div>\n",
       "<style scoped>\n",
       "    .dataframe tbody tr th:only-of-type {\n",
       "        vertical-align: middle;\n",
       "    }\n",
       "\n",
       "    .dataframe tbody tr th {\n",
       "        vertical-align: top;\n",
       "    }\n",
       "\n",
       "    .dataframe thead th {\n",
       "        text-align: right;\n",
       "    }\n",
       "</style>\n",
       "<table border=\"1\" class=\"dataframe\">\n",
       "  <thead>\n",
       "    <tr style=\"text-align: right;\">\n",
       "      <th></th>\n",
       "      <th>pageid</th>\n",
       "      <th>title</th>\n",
       "      <th>text</th>\n",
       "    </tr>\n",
       "  </thead>\n",
       "  <tbody>\n",
       "    <tr>\n",
       "      <th>0</th>\n",
       "      <td>13108718</td>\n",
       "      <td>Masjid Al-Mawaddah</td>\n",
       "      <td>[\"Masjid Al-Mawaddah (Jawi: مسجد المودّه; Arab...</td>\n",
       "    </tr>\n",
       "    <tr>\n",
       "      <th>1</th>\n",
       "      <td>1838457</td>\n",
       "      <td>Port of Tanjung Pelepas</td>\n",
       "      <td>['Coordinates: 01°21′58.85″N 103°32′54.12″E\\uf...</td>\n",
       "    </tr>\n",
       "    <tr>\n",
       "      <th>2</th>\n",
       "      <td>6170311</td>\n",
       "      <td>Pulai River</td>\n",
       "      <td>['Pulai River (Malay: Sungai Pulai) is a river...</td>\n",
       "    </tr>\n",
       "    <tr>\n",
       "      <th>3</th>\n",
       "      <td>5073671</td>\n",
       "      <td>Gelang Patah</td>\n",
       "      <td>['Gelang Patah is a suburb in Iskandar Puteri,...</td>\n",
       "    </tr>\n",
       "    <tr>\n",
       "      <th>4</th>\n",
       "      <td>5974898</td>\n",
       "      <td>Tanjung Kupang</td>\n",
       "      <td>['Tanjung Kupang is a mukim in Iskandar Puteri...</td>\n",
       "    </tr>\n",
       "  </tbody>\n",
       "</table>\n",
       "</div>"
      ],
      "text/plain": [
       "     pageid                    title  \\\n",
       "0  13108718       Masjid Al-Mawaddah   \n",
       "1   1838457  Port of Tanjung Pelepas   \n",
       "2   6170311              Pulai River   \n",
       "3   5073671             Gelang Patah   \n",
       "4   5974898           Tanjung Kupang   \n",
       "\n",
       "                                                text  \n",
       "0  [\"Masjid Al-Mawaddah (Jawi: مسجد المودّه; Arab...  \n",
       "1  ['Coordinates: 01°21′58.85″N 103°32′54.12″E\\uf...  \n",
       "2  ['Pulai River (Malay: Sungai Pulai) is a river...  \n",
       "3  ['Gelang Patah is a suburb in Iskandar Puteri,...  \n",
       "4  ['Tanjung Kupang is a mukim in Iskandar Puteri...  "
      ]
     },
     "execution_count": 2,
     "metadata": {},
     "output_type": "execute_result"
    }
   ],
   "source": [
    "fn = \"/Users/yaya/Desktop/Liu/Data/wikipedia\"\n",
    "df = pd.read_csv(fn + \"/singapore_wiki_list.csv\").drop(columns=['Unnamed: 0', 'Unnamed: 0.1', 'Unnamed: 0.1.1', 'dist', 'primary', 'ns']) # simplify dataframe\n",
    "print(df.columns)\n",
    "wiki = df[['pageid', 'title', 'text']] # extract context with page id\n",
    "# wiki = wiki.sample(10)\n",
    "wiki.head()"
   ]
  },
  {
   "cell_type": "markdown",
   "metadata": {},
   "source": [
    "# Preprocessing\n",
    "\n",
    "* Replace some string like `\\n`, `[` .etc in order to have clean text.\n",
    "* Remove coordinates binding to some articles.\n",
    "* Remove the names in different language.\n",
    "\n",
    "It will return a nested list named `articles` as corpus."
   ]
  },
  {
   "cell_type": "code",
   "execution_count": 3,
   "metadata": {},
   "outputs": [
    {
     "name": "stderr",
     "output_type": "stream",
     "text": [
      "/Users/yaya/anaconda3/lib/python3.7/site-packages/ipykernel_launcher.py:7: SettingWithCopyWarning: \n",
      "A value is trying to be set on a copy of a slice from a DataFrame.\n",
      "Try using .loc[row_indexer,col_indexer] = value instead\n",
      "\n",
      "See the caveats in the documentation: https://pandas.pydata.org/pandas-docs/stable/user_guide/indexing.html#returning-a-view-versus-a-copy\n",
      "  import sys\n"
     ]
    }
   ],
   "source": [
    "def preprocessing(text):\n",
    "    data = literal_eval(text)\n",
    "    data = [re.sub(r'\\[\\d+\\]|Coordinates:.*|\\((.*?)(Chinese|pinyin|Malay|Abbreviation|Tamil|Jawi|Arabic|Hebrew|Latin)(.*?)\\)', '', x) for x in data] # remove [1],[2].etc & coordinates\n",
    "    data = [x.strip() for x in data] # remove \\n and empty entries\n",
    "    data = [x.replace(u'\\xa0', u' ') for x in data]\n",
    "    return \" \".join(data).strip()\n",
    "wiki['text'] = wiki['text'].apply(preprocessing)"
   ]
  },
  {
   "cell_type": "code",
   "execution_count": 4,
   "metadata": {},
   "outputs": [],
   "source": [
    "articles = wiki['text'].to_list()"
   ]
  },
  {
   "cell_type": "markdown",
   "metadata": {},
   "source": [
    "# Tokenization\n",
    "\n",
    "Here will use pre-trained model from `spacy`. After tokenization and lemmatization, it will create a nested list excluding stop words, punctuations, white spaces and numbers. "
   ]
  },
  {
   "cell_type": "code",
   "execution_count": 5,
   "metadata": {},
   "outputs": [],
   "source": [
    "nlp = spacy.load(\"en_core_web_sm\")"
   ]
  },
  {
   "cell_type": "code",
   "execution_count": 6,
   "metadata": {},
   "outputs": [],
   "source": [
    "articles = [doc for doc in articles]\n",
    "g = (doc for doc in nlp.pipe(articles))\n",
    "g1 = next(g)"
   ]
  },
  {
   "cell_type": "code",
   "execution_count": 7,
   "metadata": {},
   "outputs": [],
   "source": [
    "def filter_word(doc):\n",
    "    for w in doc:\n",
    "        if not w.is_stop:\n",
    "            if not w.is_punct:\n",
    "                if not w.is_space:\n",
    "                    if w.pos_ not in [\"NUM\"]:\n",
    "                        yield w"
   ]
  },
  {
   "cell_type": "code",
   "execution_count": 8,
   "metadata": {},
   "outputs": [],
   "source": [
    "g_corpus = ( [w.lemma_.lower() for w in filter_word(doc)] for doc in nlp.pipe(articles))\n",
    "texts = [next(g_corpus) for i in range(len(articles))]"
   ]
  },
  {
   "cell_type": "code",
   "execution_count": 9,
   "metadata": {},
   "outputs": [
    {
     "name": "stdout",
     "output_type": "stream",
     "text": [
      "1233\n",
      "256\n",
      "masjid al mawaddah mosque locate sengkang junction sengkang east road compassvale bow open mosque give majlis ugama islam singapura derive arabic word مودة literally mean affectionate take quran surah ar rum verse sign create mate ye dwell tranquillity love mercy heart verily sign reflect mosque build phase mosque building fund programme cater large demographic young family buangkok sengkang area aside numerous family friendly feature young old boast number environmentally friendly feature energy conserving mosque attain greenmark certification building construction authority open concept family friendly theme propose mosque promise programme facility enhance community bond different race family different age group mosque capacity increase worshiper peak period serve religious need muslim community institution provide social service line concept mosque multi functional institution prime agent facilitate excellent muslim community encompass core area pillar mosque activity ustaz mohammad zaid isahak executive imam al mawaddah mosque attract medium attention article deal stubborn wife translate title publish national malay newspaper berita harian october religious scholar respond question advice column husband distance wife refuse obey ustaz zaid say husband try gentle persuasion remind wife obligation husband advice unheeded husband leave ignore wife short period time column article suggest measure work permissible islamic law hit wife long face leave visible mark body husband certain act hit wife change disobedience article spark outcry social medium prompt response politician faishal ibrahim head office mufti ustaz irwan hadi denounce spousal violence form berita harian post clarification ustaz zaid later say quranic verse cite excuse husband physically punish insult wife interpret modern context mosque accessible buangkok mrt station\n"
     ]
    }
   ],
   "source": [
    "print(len(texts))\n",
    "print(len(texts[0]))\n",
    "print(\" \".join(texts[0]))"
   ]
  },
  {
   "cell_type": "markdown",
   "metadata": {},
   "source": [
    "# Bigram & BOW"
   ]
  },
  {
   "cell_type": "code",
   "execution_count": 10,
   "metadata": {},
   "outputs": [],
   "source": [
    "bigram = gensim.models.Phrases(texts)\n",
    "texts = [bigram[line] for line in texts]\n",
    "dictionary = Dictionary(texts)\n",
    "corpus = [dictionary.doc2bow(text) for text in texts]"
   ]
  },
  {
   "cell_type": "markdown",
   "metadata": {},
   "source": [
    "Both LSI and LDA will return topics for classifying articles and their compositions."
   ]
  },
  {
   "cell_type": "markdown",
   "metadata": {},
   "source": [
    "# Latent Semantic Indexing"
   ]
  },
  {
   "cell_type": "code",
   "execution_count": 11,
   "metadata": {},
   "outputs": [],
   "source": [
    "lsimodel = LsiModel(corpus=corpus, num_topics=10, id2word=dictionary)"
   ]
  },
  {
   "cell_type": "code",
   "execution_count": 15,
   "metadata": {},
   "outputs": [
    {
     "data": {
      "text/plain": [
       "[(0,\n",
       "  '0.692*\"singapore\" + 0.271*\"school\" + 0.142*\"student\" + 0.125*\"year\" + 0.117*\"include\" + 0.107*\"building\" + 0.089*\"government\" + 0.089*\"parliament\" + 0.086*\"new\" + 0.083*\"country\"'),\n",
       " (1,\n",
       "  '0.748*\"school\" + 0.304*\"student\" + -0.304*\"singapore\" + -0.127*\"parliament\" + 0.120*\"programme\" + 0.102*\"high_school\" + 0.098*\"college\" + 0.092*\"year\" + 0.080*\"campus\" + 0.071*\"institution\"'),\n",
       " (2,\n",
       "  '0.578*\"parliament\" + 0.266*\"mp\" + -0.257*\"singapore\" + 0.206*\"speaker\" + 0.177*\"bill\" + 0.130*\"mps\" + 0.117*\"house\" + 0.103*\"motion\" + 0.102*\"government\" + 0.102*\"vote\"'),\n",
       " (3,\n",
       "  '0.503*\"north_korea\" + 0.371*\"summit\" + 0.278*\"trump\" + 0.152*\"meeting\" + 0.149*\"kim\" + 0.147*\"united_states\" + -0.138*\"singapore\" + 0.132*\"north_korean\" + 0.127*\"nuclear\" + 0.126*\"say\"'),\n",
       " (4,\n",
       "  '0.382*\"building\" + -0.270*\"singapore\" + 0.248*\"station\" + -0.167*\"country\" + 0.164*\"area\" + 0.158*\"new\" + 0.155*\"road\" + 0.154*\"park\" + -0.150*\"student\" + 0.136*\"build\"'),\n",
       " (5,\n",
       "  '0.433*\"school\" + -0.406*\"college\" + -0.315*\"student\" + 0.221*\"japanese\" + -0.192*\"university\" + -0.187*\"building\" + -0.141*\"programme\" + -0.129*\"nus\" + -0.122*\"yale_nus\" + -0.106*\"design\"'),\n",
       " (6,\n",
       "  '-0.500*\"court\" + -0.336*\"high_court\" + -0.240*\"lim\" + -0.205*\"court_appeal\" + -0.181*\"judge\" + 0.179*\"parliament\" + -0.167*\"case\" + -0.161*\"appeal\" + 0.160*\"station\" + -0.155*\"supreme_court\"'),\n",
       " (7,\n",
       "  '-0.445*\"japanese\" + 0.263*\"building\" + -0.249*\"college\" + -0.222*\"student\" + 0.145*\"school\" + -0.145*\"force\" + -0.140*\"attack\" + 0.138*\"singapore\" + -0.133*\"australian\" + -0.123*\"lim\"'),\n",
       " (8,\n",
       "  '0.469*\"building\" + -0.444*\"station\" + -0.243*\"lim\" + -0.220*\"event\" + -0.211*\"pink_dot\" + 0.172*\"japanese\" + -0.145*\"mrt_station\" + -0.132*\"park\" + -0.091*\"line\" + -0.082*\"police\"'),\n",
       " (9,\n",
       "  '0.520*\"station\" + -0.285*\"event\" + -0.278*\"pink_dot\" + -0.210*\"lim\" + 0.180*\"court\" + 0.172*\"mrt_station\" + 0.144*\"high_court\" + 0.132*\"line\" + -0.111*\"building\" + -0.099*\"support\"')]"
      ]
     },
     "execution_count": 15,
     "metadata": {},
     "output_type": "execute_result"
    }
   ],
   "source": [
    "lsimodel.show_topics()"
   ]
  },
  {
   "cell_type": "markdown",
   "metadata": {},
   "source": [
    "# Latent Dirichlet allocation"
   ]
  },
  {
   "cell_type": "code",
   "execution_count": 13,
   "metadata": {},
   "outputs": [],
   "source": [
    "ldamodel = LdaModel(corpus=corpus, num_topics=10, id2word=dictionary)"
   ]
  },
  {
   "cell_type": "code",
   "execution_count": 14,
   "metadata": {},
   "outputs": [
    {
     "data": {
      "text/plain": [
       "[(0,\n",
       "  '0.017*\"singapore\" + 0.007*\"school\" + 0.006*\"building\" + 0.005*\"locate\" + 0.004*\"park\" + 0.003*\"road\" + 0.003*\"year\" + 0.003*\"include\" + 0.003*\"area\" + 0.003*\"new\"'),\n",
       " (1,\n",
       "  '0.015*\"singapore\" + 0.009*\"school\" + 0.007*\"station\" + 0.004*\"year\" + 0.003*\"student\" + 0.003*\"house\" + 0.003*\"new\" + 0.003*\"locate\" + 0.003*\"include\" + 0.003*\"road\"'),\n",
       " (2,\n",
       "  '0.022*\"singapore\" + 0.006*\"school\" + 0.006*\"park\" + 0.005*\"building\" + 0.005*\"station\" + 0.004*\"road\" + 0.004*\"new\" + 0.003*\"year\" + 0.003*\"area\" + 0.003*\"include\"'),\n",
       " (3,\n",
       "  '0.020*\"singapore\" + 0.006*\"station\" + 0.005*\"locate\" + 0.005*\"area\" + 0.004*\"new\" + 0.004*\"road\" + 0.003*\"centre\" + 0.003*\"include\" + 0.003*\"building\" + 0.003*\"school\"'),\n",
       " (4,\n",
       "  '0.018*\"singapore\" + 0.011*\"school\" + 0.007*\"student\" + 0.005*\"building\" + 0.004*\"new\" + 0.004*\"year\" + 0.004*\"house\" + 0.004*\"include\" + 0.003*\"build\" + 0.003*\"centre\"'),\n",
       " (5,\n",
       "  '0.013*\"singapore\" + 0.013*\"school\" + 0.005*\"student\" + 0.004*\"year\" + 0.004*\"area\" + 0.004*\"building\" + 0.003*\"station\" + 0.003*\"road\" + 0.003*\"include\" + 0.003*\"house\"'),\n",
       " (6,\n",
       "  '0.014*\"singapore\" + 0.007*\"station\" + 0.007*\"school\" + 0.004*\"area\" + 0.004*\"locate\" + 0.004*\"year\" + 0.004*\"road\" + 0.004*\"include\" + 0.003*\"student\" + 0.003*\"design\"'),\n",
       " (7,\n",
       "  '0.015*\"singapore\" + 0.008*\"building\" + 0.004*\"include\" + 0.004*\"school\" + 0.004*\"new\" + 0.004*\"year\" + 0.003*\"build\" + 0.003*\"area\" + 0.003*\"design\" + 0.003*\"mosque\"'),\n",
       " (8,\n",
       "  '0.015*\"singapore\" + 0.012*\"school\" + 0.008*\"building\" + 0.005*\"new\" + 0.004*\"include\" + 0.004*\"station\" + 0.004*\"design\" + 0.004*\"student\" + 0.003*\"house\" + 0.003*\"year\"'),\n",
       " (9,\n",
       "  '0.018*\"singapore\" + 0.012*\"school\" + 0.008*\"building\" + 0.007*\"station\" + 0.005*\"area\" + 0.004*\"road\" + 0.004*\"locate\" + 0.004*\"new\" + 0.003*\"year\" + 0.003*\"student\"')]"
      ]
     },
     "execution_count": 14,
     "metadata": {},
     "output_type": "execute_result"
    }
   ],
   "source": [
    "ldamodel.show_topics()"
   ]
  },
  {
   "cell_type": "code",
   "execution_count": null,
   "metadata": {},
   "outputs": [],
   "source": []
  }
 ],
 "metadata": {
  "kernelspec": {
   "display_name": "Python 3",
   "language": "python",
   "name": "python3"
  },
  "language_info": {
   "codemirror_mode": {
    "name": "ipython",
    "version": 3
   },
   "file_extension": ".py",
   "mimetype": "text/x-python",
   "name": "python",
   "nbconvert_exporter": "python",
   "pygments_lexer": "ipython3",
   "version": "3.7.7"
  }
 },
 "nbformat": 4,
 "nbformat_minor": 4
}
